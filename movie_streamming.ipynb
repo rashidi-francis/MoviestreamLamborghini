{
  "nbformat": 4,
  "nbformat_minor": 0,
  "metadata": {
    "colab": {
      "provenance": []
    },
    "kernelspec": {
      "name": "python3",
      "display_name": "Python 3"
    },
    "language_info": {
      "name": "python"
    }
  },
  "cells": [
    {
      "cell_type": "code",
      "execution_count": null,
      "metadata": {
        "colab": {
          "base_uri": "https://localhost:8080/"
        },
        "id": "K6cXMFuTLdwG",
        "outputId": "9c1d0a75-e5d7-4f51-a75c-3f3c54419738"
      },
      "outputs": [
        {
          "output_type": "stream",
          "name": "stdout",
          "text": [
            "Collecting pyspark\n",
            "  Downloading pyspark-3.5.1.tar.gz (317.0 MB)\n",
            "\u001b[2K     \u001b[90m━━━━━━━━━━━━━━━━━━━━━━━━━━━━━━━━━━━━━━━━\u001b[0m \u001b[32m317.0/317.0 MB\u001b[0m \u001b[31m2.4 MB/s\u001b[0m eta \u001b[36m0:00:00\u001b[0m\n",
            "\u001b[?25h  Preparing metadata (setup.py) ... \u001b[?25l\u001b[?25hdone\n",
            "Requirement already satisfied: py4j==0.10.9.7 in /usr/local/lib/python3.10/dist-packages (from pyspark) (0.10.9.7)\n",
            "Building wheels for collected packages: pyspark\n",
            "  Building wheel for pyspark (setup.py) ... \u001b[?25l\u001b[?25hdone\n",
            "  Created wheel for pyspark: filename=pyspark-3.5.1-py2.py3-none-any.whl size=317488491 sha256=d065446e8d4c6cb98a4356964bb57b99a3605242378e106611e3f7c3d791517e\n",
            "  Stored in directory: /root/.cache/pip/wheels/80/1d/60/2c256ed38dddce2fdd93be545214a63e02fbd8d74fb0b7f3a6\n",
            "Successfully built pyspark\n",
            "Installing collected packages: pyspark\n",
            "Successfully installed pyspark-3.5.1\n"
          ]
        }
      ],
      "source": [
        "pip install pyspark"
      ]
    },
    {
      "cell_type": "code",
      "source": [
        "from pyspark.sql import SparkSession\n",
        "\n",
        "spark = SparkSession.builder.appName(\"demo\").getOrCreate()"
      ],
      "metadata": {
        "id": "-wEGT1jJM6hw"
      },
      "execution_count": null,
      "outputs": []
    },
    {
      "cell_type": "code",
      "source": [
        "with open('/content/u.data') as f:\n",
        "    data = f.readlines()"
      ],
      "metadata": {
        "id": "b_ZWdxb0QyIQ"
      },
      "execution_count": null,
      "outputs": []
    },
    {
      "cell_type": "code",
      "source": [
        "# Converta a lista de strings em uma lista de listas de valores\n",
        "data = [row.split('\\t') for row in data]"
      ],
      "metadata": {
        "id": "Ag4v2TBjRG-Y"
      },
      "execution_count": null,
      "outputs": []
    },
    {
      "cell_type": "code",
      "source": [
        "# Crie o DataFrame\n",
        "df = spark.createDataFrame(data,['user_id','movie_id','rating','rating_time'] )"
      ],
      "metadata": {
        "id": "PgiwJ-PFRRsH"
      },
      "execution_count": null,
      "outputs": []
    },
    {
      "cell_type": "code",
      "source": [
        "# Print the DataFrame\n",
        "df.show()"
      ],
      "metadata": {
        "colab": {
          "base_uri": "https://localhost:8080/"
        },
        "id": "NtzhApAeR1aA",
        "outputId": "26f0fe28-51f8-4d27-c123-60bee6f29220"
      },
      "execution_count": null,
      "outputs": [
        {
          "output_type": "stream",
          "name": "stdout",
          "text": [
            "+-------+--------+------+-----------+\n",
            "|user_id|movie_id|rating|rating_time|\n",
            "+-------+--------+------+-----------+\n",
            "|    196|     242|     3|881250949\\n|\n",
            "|    186|     302|     3|891717742\\n|\n",
            "|     22|     377|     1|878887116\\n|\n",
            "|    244|      51|     2|880606923\\n|\n",
            "|    166|     346|     1|886397596\\n|\n",
            "|    298|     474|     4|884182806\\n|\n",
            "|    115|     265|     2|881171488\\n|\n",
            "|    253|     465|     5|891628467\\n|\n",
            "|    305|     451|     3|886324817\\n|\n",
            "|      6|      86|     3|883603013\\n|\n",
            "|     62|     257|     2|879372434\\n|\n",
            "|    286|    1014|     5|879781125\\n|\n",
            "|    200|     222|     5|876042340\\n|\n",
            "|    210|      40|     3|891035994\\n|\n",
            "|    224|      29|     3|888104457\\n|\n",
            "|    303|     785|     3|879485318\\n|\n",
            "|    122|     387|     5|879270459\\n|\n",
            "|    194|     274|     2|879539794\\n|\n",
            "|    291|    1042|     4|874834944\\n|\n",
            "|    234|    1184|     2|892079237\\n|\n",
            "+-------+--------+------+-----------+\n",
            "only showing top 20 rows\n",
            "\n"
          ]
        }
      ]
    },
    {
      "cell_type": "code",
      "source": [
        "# Selecione a tabela user_id e Movie_id\n",
        "df.select('user_id','movie_id','rating_time').show()"
      ],
      "metadata": {
        "colab": {
          "base_uri": "https://localhost:8080/"
        },
        "id": "Av-cbxbRSorA",
        "outputId": "45a39f71-ceee-4712-bfcf-dcfba2b1c342"
      },
      "execution_count": null,
      "outputs": [
        {
          "output_type": "stream",
          "name": "stdout",
          "text": [
            "+-------+--------+-----------+\n",
            "|user_id|movie_id|rating_time|\n",
            "+-------+--------+-----------+\n",
            "|    196|     242|881250949\\n|\n",
            "|    186|     302|891717742\\n|\n",
            "|     22|     377|878887116\\n|\n",
            "|    244|      51|880606923\\n|\n",
            "|    166|     346|886397596\\n|\n",
            "|    298|     474|884182806\\n|\n",
            "|    115|     265|881171488\\n|\n",
            "|    253|     465|891628467\\n|\n",
            "|    305|     451|886324817\\n|\n",
            "|      6|      86|883603013\\n|\n",
            "|     62|     257|879372434\\n|\n",
            "|    286|    1014|879781125\\n|\n",
            "|    200|     222|876042340\\n|\n",
            "|    210|      40|891035994\\n|\n",
            "|    224|      29|888104457\\n|\n",
            "|    303|     785|879485318\\n|\n",
            "|    122|     387|879270459\\n|\n",
            "|    194|     274|879539794\\n|\n",
            "|    291|    1042|874834944\\n|\n",
            "|    234|    1184|892079237\\n|\n",
            "+-------+--------+-----------+\n",
            "only showing top 20 rows\n",
            "\n"
          ]
        }
      ]
    },
    {
      "cell_type": "code",
      "source": [
        "#biblioteca do spark que faz calculo de media\n",
        "from pyspark.sql.functions import avg\n",
        "df.groupBy(\"user_id\").avg().show()"
      ],
      "metadata": {
        "colab": {
          "base_uri": "https://localhost:8080/"
        },
        "id": "5UIH31EUTaVI",
        "outputId": "78ddd431-a9e2-4bf5-ca45-1aaf5a49edaf"
      },
      "execution_count": null,
      "outputs": [
        {
          "output_type": "stream",
          "name": "stdout",
          "text": [
            "+-------+\n",
            "|user_id|\n",
            "+-------+\n",
            "|    296|\n",
            "|    467|\n",
            "|    691|\n",
            "|    675|\n",
            "|    125|\n",
            "|    451|\n",
            "|    666|\n",
            "|      7|\n",
            "|    124|\n",
            "|     51|\n",
            "|    447|\n",
            "|    591|\n",
            "|    307|\n",
            "|    475|\n",
            "|    574|\n",
            "|    613|\n",
            "|    718|\n",
            "|    205|\n",
            "|    334|\n",
            "|    169|\n",
            "+-------+\n",
            "only showing top 20 rows\n",
            "\n"
          ]
        }
      ]
    },
    {
      "cell_type": "code",
      "source": [
        "spark.sql(\"select user_id, avg(rating) from {df} group by user_id\", df=df).show()"
      ],
      "metadata": {
        "colab": {
          "base_uri": "https://localhost:8080/"
        },
        "id": "xa1sD6g6VtKf",
        "outputId": "cc34c201-be94-4888-c36a-870fafaf5ebb"
      },
      "execution_count": null,
      "outputs": [
        {
          "output_type": "stream",
          "name": "stdout",
          "text": [
            "+-------+------------------+\n",
            "|user_id|       avg(rating)|\n",
            "+-------+------------------+\n",
            "|    296|4.1768707482993195|\n",
            "|    467|3.6818181818181817|\n",
            "|    691|           4.21875|\n",
            "|    675|3.7058823529411766|\n",
            "|    125|3.4395604395604398|\n",
            "|    451|2.7346938775510203|\n",
            "|    666|3.6653061224489796|\n",
            "|      7| 3.965260545905707|\n",
            "|    124|               3.5|\n",
            "|     51|3.5652173913043477|\n",
            "|    447| 3.597122302158273|\n",
            "|    591|3.6547619047619047|\n",
            "|    307| 3.794642857142857|\n",
            "|    475|               3.6|\n",
            "|    574|3.5217391304347827|\n",
            "|    613| 4.321428571428571|\n",
            "|    718|3.6923076923076925|\n",
            "|    205|2.8636363636363638|\n",
            "|    334|3.5195195195195197|\n",
            "|    169| 3.972972972972973|\n",
            "+-------+------------------+\n",
            "only showing top 20 rows\n",
            "\n"
          ]
        }
      ]
    },
    {
      "cell_type": "code",
      "source": [
        "df.groupBy(\"rating\").count().sort('rating').show()"
      ],
      "metadata": {
        "colab": {
          "base_uri": "https://localhost:8080/"
        },
        "id": "Qr_qcV9iW7g-",
        "outputId": "4a9cca27-aac5-4a52-be8f-43474df6aa04"
      },
      "execution_count": null,
      "outputs": [
        {
          "output_type": "stream",
          "name": "stdout",
          "text": [
            "+------+-----+\n",
            "|rating|count|\n",
            "+------+-----+\n",
            "|     1| 6110|\n",
            "|     2|11370|\n",
            "|     3|27145|\n",
            "|     4|34174|\n",
            "|     5|21201|\n",
            "+------+-----+\n",
            "\n"
          ]
        }
      ]
    },
    {
      "cell_type": "code",
      "source": [
        "df.where(df['rating'] == 5).show()"
      ],
      "metadata": {
        "colab": {
          "base_uri": "https://localhost:8080/"
        },
        "id": "rCAPPlqRXl_G",
        "outputId": "a6d64440-c431-4e0d-ed8c-bc56b6695207"
      },
      "execution_count": null,
      "outputs": [
        {
          "output_type": "stream",
          "name": "stdout",
          "text": [
            "+-------+--------+------+-----------+\n",
            "|user_id|movie_id|rating|rating_time|\n",
            "+-------+--------+------+-----------+\n",
            "|    253|     465|     5|891628467\\n|\n",
            "|    286|    1014|     5|879781125\\n|\n",
            "|    200|     222|     5|876042340\\n|\n",
            "|    122|     387|     5|879270459\\n|\n",
            "|     38|      95|     5|892430094\\n|\n",
            "|    160|     234|     5|876861185\\n|\n",
            "|    278|     603|     5|891295330\\n|\n",
            "|    287|     327|     5|875333916\\n|\n",
            "|    246|     201|     5|884921594\\n|\n",
            "|    242|    1137|     5|879741196\\n|\n",
            "|    249|     241|     5|879641194\\n|\n",
            "|     99|       4|     5|886519097\\n|\n",
            "|     25|     181|     5|885853415\\n|\n",
            "|     59|     196|     5|888205088\\n|\n",
            "|    290|     143|     5|880474293\\n|\n",
            "|     42|     423|     5|881107687\\n|\n",
            "|    138|      26|     5|879024232\\n|\n",
            "|     60|     427|     5|883326620\\n|\n",
            "|     57|     304|     5|883698581\\n|\n",
            "|    127|     229|     5|884364867\\n|\n",
            "+-------+--------+------+-----------+\n",
            "only showing top 20 rows\n",
            "\n"
          ]
        }
      ]
    },
    {
      "cell_type": "code",
      "source": [
        "# Carregar os dados dos bancos\n",
        "u_data = df.read_csv('/content/u.data')  # Substitua 'caminho/para/u.data' pelo caminho real do seu arquivo u.data\n",
        "u_item = df.read_csv('/content/u.item')  # Substitua 'caminho/para/u.item' pelo caminho real do seu arquivo u.item\n",
        "\n",
        "# Listar as tabelas dos dois bancos\n",
        "print(\"Tabela u.data:\")\n",
        "print(u_data.head())\n",
        "\n",
        "print(\"\\nTabela u.item:\")\n",
        "print(u_item.head())"
      ],
      "metadata": {
        "colab": {
          "base_uri": "https://localhost:8080/",
          "height": 367
        },
        "id": "BJo2_eAKZhvm",
        "outputId": "d1f9dd31-be5a-41e7-af8f-8500004999a5"
      },
      "execution_count": null,
      "outputs": [
        {
          "output_type": "error",
          "ename": "AttributeError",
          "evalue": "'DataFrame' object has no attribute 'read_csv'",
          "traceback": [
            "\u001b[0;31m---------------------------------------------------------------------------\u001b[0m",
            "\u001b[0;31mAttributeError\u001b[0m                            Traceback (most recent call last)",
            "\u001b[0;32m<ipython-input-14-75860e4643ab>\u001b[0m in \u001b[0;36m<cell line: 2>\u001b[0;34m()\u001b[0m\n\u001b[1;32m      1\u001b[0m \u001b[0;31m# Carregar os dados dos bancos\u001b[0m\u001b[0;34m\u001b[0m\u001b[0;34m\u001b[0m\u001b[0m\n\u001b[0;32m----> 2\u001b[0;31m \u001b[0mu_data\u001b[0m \u001b[0;34m=\u001b[0m \u001b[0mdf\u001b[0m\u001b[0;34m.\u001b[0m\u001b[0mread_csv\u001b[0m\u001b[0;34m(\u001b[0m\u001b[0;34m'/content/u.data'\u001b[0m\u001b[0;34m)\u001b[0m  \u001b[0;31m# Substitua 'caminho/para/u.data' pelo caminho real do seu arquivo u.data\u001b[0m\u001b[0;34m\u001b[0m\u001b[0;34m\u001b[0m\u001b[0m\n\u001b[0m\u001b[1;32m      3\u001b[0m \u001b[0mu_item\u001b[0m \u001b[0;34m=\u001b[0m \u001b[0mdf\u001b[0m\u001b[0;34m.\u001b[0m\u001b[0mread_csv\u001b[0m\u001b[0;34m(\u001b[0m\u001b[0;34m'/content/u.item'\u001b[0m\u001b[0;34m)\u001b[0m  \u001b[0;31m# Substitua 'caminho/para/u.item' pelo caminho real do seu arquivo u.item\u001b[0m\u001b[0;34m\u001b[0m\u001b[0;34m\u001b[0m\u001b[0m\n\u001b[1;32m      4\u001b[0m \u001b[0;34m\u001b[0m\u001b[0m\n\u001b[1;32m      5\u001b[0m \u001b[0;31m# Listar as tabelas dos dois bancos\u001b[0m\u001b[0;34m\u001b[0m\u001b[0;34m\u001b[0m\u001b[0m\n",
            "\u001b[0;32m/usr/local/lib/python3.10/dist-packages/pyspark/sql/dataframe.py\u001b[0m in \u001b[0;36m__getattr__\u001b[0;34m(self, name)\u001b[0m\n\u001b[1;32m   3125\u001b[0m         \"\"\"\n\u001b[1;32m   3126\u001b[0m         \u001b[0;32mif\u001b[0m \u001b[0mname\u001b[0m \u001b[0;32mnot\u001b[0m \u001b[0;32min\u001b[0m \u001b[0mself\u001b[0m\u001b[0;34m.\u001b[0m\u001b[0mcolumns\u001b[0m\u001b[0;34m:\u001b[0m\u001b[0;34m\u001b[0m\u001b[0;34m\u001b[0m\u001b[0m\n\u001b[0;32m-> 3127\u001b[0;31m             raise AttributeError(\n\u001b[0m\u001b[1;32m   3128\u001b[0m                 \u001b[0;34m\"'%s' object has no attribute '%s'\"\u001b[0m \u001b[0;34m%\u001b[0m \u001b[0;34m(\u001b[0m\u001b[0mself\u001b[0m\u001b[0;34m.\u001b[0m\u001b[0m__class__\u001b[0m\u001b[0;34m.\u001b[0m\u001b[0m__name__\u001b[0m\u001b[0;34m,\u001b[0m \u001b[0mname\u001b[0m\u001b[0;34m)\u001b[0m\u001b[0;34m\u001b[0m\u001b[0;34m\u001b[0m\u001b[0m\n\u001b[1;32m   3129\u001b[0m             )\n",
            "\u001b[0;31mAttributeError\u001b[0m: 'DataFrame' object has no attribute 'read_csv'"
          ]
        }
      ]
    },
    {
      "cell_type": "code",
      "source": [
        "# Carregue os dados do arquivo em uma lista\n",
        "with open('/content/u.item') as f:\n",
        "    data = f.readlines()\n"
      ],
      "metadata": {
        "colab": {
          "base_uri": "https://localhost:8080/",
          "height": 297
        },
        "id": "IfZRrTlUakEm",
        "outputId": "d2abdbe5-897e-4fdb-a170-efa3b4c833a8"
      },
      "execution_count": null,
      "outputs": [
        {
          "output_type": "error",
          "ename": "UnicodeDecodeError",
          "evalue": "'utf-8' codec can't decode byte 0xe9 in position 2892: invalid continuation byte",
          "traceback": [
            "\u001b[0;31m---------------------------------------------------------------------------\u001b[0m",
            "\u001b[0;31mUnicodeDecodeError\u001b[0m                        Traceback (most recent call last)",
            "\u001b[0;32m<ipython-input-15-16c838f14cdd>\u001b[0m in \u001b[0;36m<cell line: 2>\u001b[0;34m()\u001b[0m\n\u001b[1;32m      1\u001b[0m \u001b[0;31m# Carregue os dados do arquivo em uma lista\u001b[0m\u001b[0;34m\u001b[0m\u001b[0;34m\u001b[0m\u001b[0m\n\u001b[1;32m      2\u001b[0m \u001b[0;32mwith\u001b[0m \u001b[0mopen\u001b[0m\u001b[0;34m(\u001b[0m\u001b[0;34m'/content/u.item'\u001b[0m\u001b[0;34m)\u001b[0m \u001b[0;32mas\u001b[0m \u001b[0mf\u001b[0m\u001b[0;34m:\u001b[0m\u001b[0;34m\u001b[0m\u001b[0;34m\u001b[0m\u001b[0m\n\u001b[0;32m----> 3\u001b[0;31m     \u001b[0mdata\u001b[0m \u001b[0;34m=\u001b[0m \u001b[0mf\u001b[0m\u001b[0;34m.\u001b[0m\u001b[0mreadlines\u001b[0m\u001b[0;34m(\u001b[0m\u001b[0;34m)\u001b[0m\u001b[0;34m\u001b[0m\u001b[0;34m\u001b[0m\u001b[0m\n\u001b[0m",
            "\u001b[0;32m/usr/lib/python3.10/codecs.py\u001b[0m in \u001b[0;36mdecode\u001b[0;34m(self, input, final)\u001b[0m\n\u001b[1;32m    320\u001b[0m         \u001b[0;31m# decode input (taking the buffer into account)\u001b[0m\u001b[0;34m\u001b[0m\u001b[0;34m\u001b[0m\u001b[0m\n\u001b[1;32m    321\u001b[0m         \u001b[0mdata\u001b[0m \u001b[0;34m=\u001b[0m \u001b[0mself\u001b[0m\u001b[0;34m.\u001b[0m\u001b[0mbuffer\u001b[0m \u001b[0;34m+\u001b[0m \u001b[0minput\u001b[0m\u001b[0;34m\u001b[0m\u001b[0;34m\u001b[0m\u001b[0m\n\u001b[0;32m--> 322\u001b[0;31m         \u001b[0;34m(\u001b[0m\u001b[0mresult\u001b[0m\u001b[0;34m,\u001b[0m \u001b[0mconsumed\u001b[0m\u001b[0;34m)\u001b[0m \u001b[0;34m=\u001b[0m \u001b[0mself\u001b[0m\u001b[0;34m.\u001b[0m\u001b[0m_buffer_decode\u001b[0m\u001b[0;34m(\u001b[0m\u001b[0mdata\u001b[0m\u001b[0;34m,\u001b[0m \u001b[0mself\u001b[0m\u001b[0;34m.\u001b[0m\u001b[0merrors\u001b[0m\u001b[0;34m,\u001b[0m \u001b[0mfinal\u001b[0m\u001b[0;34m)\u001b[0m\u001b[0;34m\u001b[0m\u001b[0;34m\u001b[0m\u001b[0m\n\u001b[0m\u001b[1;32m    323\u001b[0m         \u001b[0;31m# keep undecoded input until the next call\u001b[0m\u001b[0;34m\u001b[0m\u001b[0;34m\u001b[0m\u001b[0m\n\u001b[1;32m    324\u001b[0m         \u001b[0mself\u001b[0m\u001b[0;34m.\u001b[0m\u001b[0mbuffer\u001b[0m \u001b[0;34m=\u001b[0m \u001b[0mdata\u001b[0m\u001b[0;34m[\u001b[0m\u001b[0mconsumed\u001b[0m\u001b[0;34m:\u001b[0m\u001b[0;34m]\u001b[0m\u001b[0;34m\u001b[0m\u001b[0;34m\u001b[0m\u001b[0m\n",
            "\u001b[0;31mUnicodeDecodeError\u001b[0m: 'utf-8' codec can't decode byte 0xe9 in position 2892: invalid continuation byte"
          ]
        }
      ]
    },
    {
      "cell_type": "code",
      "source": [
        "# Carregar os dados do arquivo em uma lista\n",
        "with open('/content/u.item', encoding='latin-1') as f:\n",
        "    data = f.readlines()"
      ],
      "metadata": {
        "id": "UB-nBvkic3T-"
      },
      "execution_count": null,
      "outputs": []
    },
    {
      "cell_type": "code",
      "source": [
        "# Converta a lista de strings em uma lista de listas de valores\n",
        "data = [row.split('|') for row in data]"
      ],
      "metadata": {
        "id": "drzuQoJkvheD"
      },
      "execution_count": null,
      "outputs": []
    },
    {
      "cell_type": "code",
      "source": [
        "# Crie o DataFrame\n",
        "df1 = spark.createDataFrame(data,['id','name','date','x','email'] )\n"
      ],
      "metadata": {
        "id": "FZE8krDJwwCq"
      },
      "execution_count": null,
      "outputs": []
    },
    {
      "cell_type": "code",
      "source": [
        "# Print the DataFrame\n",
        "df1.show()"
      ],
      "metadata": {
        "colab": {
          "base_uri": "https://localhost:8080/"
        },
        "id": "cHgMcxSVxmfx",
        "outputId": "17f2997a-f8d6-4a4a-dabf-5436de62c0d3"
      },
      "execution_count": null,
      "outputs": [
        {
          "output_type": "stream",
          "name": "stdout",
          "text": [
            "+---+--------------------+-----------+---+--------------------+---+---+---+---+---+---+---+---+---+---+---+---+---+---+---+---+---+---+---+\n",
            "| id|                name|       date|  x|               email| _6| _7| _8| _9|_10|_11|_12|_13|_14|_15|_16|_17|_18|_19|_20|_21|_22|_23|_24|\n",
            "+---+--------------------+-----------+---+--------------------+---+---+---+---+---+---+---+---+---+---+---+---+---+---+---+---+---+---+---+\n",
            "|  1|    Toy Story (1995)|01-Jan-1995|   |http://us.imdb.co...|  0|  0|  0|  1|  1|  1|  0|  0|  0|  0|  0|  0|  0|  0|  0|  0|  0|  0|0\\n|\n",
            "|  2|    GoldenEye (1995)|01-Jan-1995|   |http://us.imdb.co...|  0|  1|  1|  0|  0|  0|  0|  0|  0|  0|  0|  0|  0|  0|  0|  0|  1|  0|0\\n|\n",
            "|  3|   Four Rooms (1995)|01-Jan-1995|   |http://us.imdb.co...|  0|  0|  0|  0|  0|  0|  0|  0|  0|  0|  0|  0|  0|  0|  0|  0|  1|  0|0\\n|\n",
            "|  4|   Get Shorty (1995)|01-Jan-1995|   |http://us.imdb.co...|  0|  1|  0|  0|  0|  1|  0|  0|  1|  0|  0|  0|  0|  0|  0|  0|  0|  0|0\\n|\n",
            "|  5|      Copycat (1995)|01-Jan-1995|   |http://us.imdb.co...|  0|  0|  0|  0|  0|  0|  1|  0|  1|  0|  0|  0|  0|  0|  0|  0|  1|  0|0\\n|\n",
            "|  6|Shanghai Triad (Y...|01-Jan-1995|   |http://us.imdb.co...|  0|  0|  0|  0|  0|  0|  0|  0|  1|  0|  0|  0|  0|  0|  0|  0|  0|  0|0\\n|\n",
            "|  7|Twelve Monkeys (1...|01-Jan-1995|   |http://us.imdb.co...|  0|  0|  0|  0|  0|  0|  0|  0|  1|  0|  0|  0|  0|  0|  0|  1|  0|  0|0\\n|\n",
            "|  8|         Babe (1995)|01-Jan-1995|   |http://us.imdb.co...|  0|  0|  0|  0|  1|  1|  0|  0|  1|  0|  0|  0|  0|  0|  0|  0|  0|  0|0\\n|\n",
            "|  9|Dead Man Walking ...|01-Jan-1995|   |http://us.imdb.co...|  0|  0|  0|  0|  0|  0|  0|  0|  1|  0|  0|  0|  0|  0|  0|  0|  0|  0|0\\n|\n",
            "| 10|  Richard III (1995)|22-Jan-1996|   |http://us.imdb.co...|  0|  0|  0|  0|  0|  0|  0|  0|  1|  0|  0|  0|  0|  0|  0|  0|  0|  1|0\\n|\n",
            "| 11|Seven (Se7en) (1995)|01-Jan-1995|   |http://us.imdb.co...|  0|  0|  0|  0|  0|  0|  1|  0|  0|  0|  0|  0|  0|  0|  0|  0|  1|  0|0\\n|\n",
            "| 12|Usual Suspects, T...|14-Aug-1995|   |http://us.imdb.co...|  0|  0|  0|  0|  0|  0|  1|  0|  0|  0|  0|  0|  0|  0|  0|  0|  1|  0|0\\n|\n",
            "| 13|Mighty Aphrodite ...|30-Oct-1995|   |http://us.imdb.co...|  0|  0|  0|  0|  0|  1|  0|  0|  0|  0|  0|  0|  0|  0|  0|  0|  0|  0|0\\n|\n",
            "| 14|  Postino, Il (1994)|01-Jan-1994|   |http://us.imdb.co...|  0|  0|  0|  0|  0|  0|  0|  0|  1|  0|  0|  0|  0|  0|  1|  0|  0|  0|0\\n|\n",
            "| 15|Mr. Holland's Opu...|29-Jan-1996|   |http://us.imdb.co...|  0|  0|  0|  0|  0|  0|  0|  0|  1|  0|  0|  0|  0|  0|  0|  0|  0|  0|0\\n|\n",
            "| 16|French Twist (Gaz...|01-Jan-1995|   |http://us.imdb.co...|  0|  0|  0|  0|  0|  1|  0|  0|  0|  0|  0|  0|  0|  0|  1|  0|  0|  0|0\\n|\n",
            "| 17|From Dusk Till Da...|05-Feb-1996|   |http://us.imdb.co...|  0|  1|  0|  0|  0|  1|  1|  0|  0|  0|  0|  1|  0|  0|  0|  0|  1|  0|0\\n|\n",
            "| 18|White Balloon, Th...|01-Jan-1995|   |http://us.imdb.co...|  0|  0|  0|  0|  0|  0|  0|  0|  1|  0|  0|  0|  0|  0|  0|  0|  0|  0|0\\n|\n",
            "| 19|Antonia's Line (1...|01-Jan-1995|   |http://us.imdb.co...|  0|  0|  0|  0|  0|  0|  0|  0|  1|  0|  0|  0|  0|  0|  0|  0|  0|  0|0\\n|\n",
            "| 20|Angels and Insect...|01-Jan-1995|   |http://us.imdb.co...|  0|  0|  0|  0|  0|  0|  0|  0|  1|  0|  0|  0|  0|  0|  1|  0|  0|  0|0\\n|\n",
            "+---+--------------------+-----------+---+--------------------+---+---+---+---+---+---+---+---+---+---+---+---+---+---+---+---+---+---+---+\n",
            "only showing top 20 rows\n",
            "\n"
          ]
        }
      ]
    },
    {
      "cell_type": "code",
      "source": [
        "!pip install chardet"
      ],
      "metadata": {
        "colab": {
          "base_uri": "https://localhost:8080/"
        },
        "id": "VYh2ZH3visPN",
        "outputId": "c50c70eb-4488-48e6-d735-eadf92369e56"
      },
      "execution_count": null,
      "outputs": [
        {
          "output_type": "stream",
          "name": "stdout",
          "text": [
            "Requirement already satisfied: chardet in /usr/local/lib/python3.10/dist-packages (5.2.0)\n"
          ]
        }
      ]
    },
    {
      "cell_type": "code",
      "source": [
        "# Print the DataFrame\n",
        "df1.show()"
      ],
      "metadata": {
        "colab": {
          "base_uri": "https://localhost:8080/"
        },
        "id": "zLAG5agtj5Ch",
        "outputId": "20f45af3-7807-478b-f23a-d3ccba8be541"
      },
      "execution_count": null,
      "outputs": [
        {
          "output_type": "stream",
          "name": "stdout",
          "text": [
            "+--------------------+\n",
            "|                  _1|\n",
            "+--------------------+\n",
            "|1|Toy Story (1995...|\n",
            "|2|GoldenEye (1995...|\n",
            "|3|Four Rooms (199...|\n",
            "|4|Get Shorty (199...|\n",
            "|5|Copycat (1995)|...|\n",
            "|6|Shanghai Triad ...|\n",
            "|7|Twelve Monkeys ...|\n",
            "|8|Babe (1995)|01-...|\n",
            "|9|Dead Man Walkin...|\n",
            "|10|Richard III (1...|\n",
            "|11|Seven (Se7en) ...|\n",
            "|12|Usual Suspects...|\n",
            "|13|Mighty Aphrodi...|\n",
            "|14|Postino, Il (1...|\n",
            "|15|Mr. Holland's ...|\n",
            "|16|French Twist (...|\n",
            "|17|From Dusk Till...|\n",
            "|18|White Balloon,...|\n",
            "|19|Antonia's Line...|\n",
            "|20|Angels and Ins...|\n",
            "+--------------------+\n",
            "only showing top 20 rows\n",
            "\n"
          ]
        }
      ]
    }
  ]
}